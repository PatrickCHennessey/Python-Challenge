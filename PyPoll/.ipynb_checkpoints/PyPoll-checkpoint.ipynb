{
 "cells": [
  {
   "cell_type": "code",
   "execution_count": 1,
   "metadata": {},
   "outputs": [],
   "source": [
    "import os\n",
    "import csv"
   ]
  },
  {
   "cell_type": "code",
   "execution_count": 2,
   "metadata": {},
   "outputs": [],
   "source": [
    "csv_polldata = os.path.join(\"Resources/election_data.csv\")"
   ]
  },
  {
   "cell_type": "code",
   "execution_count": 3,
   "metadata": {},
   "outputs": [],
   "source": [
    "with open(csv_polldata, newline='') as csvfile:\n",
    "    csvreader = csv.reader(csvfile, delimiter=',')\n",
    "    csv_header = next(csvfile)\n",
    "    \n",
    "\n",
    "    votes = {}\n",
    "    total_votes = 0\n",
    "    vote_percent = {}\n",
    "    candidates = []\n",
    "       \n",
    "    \n",
    "    for row in csvreader:\n",
    "        total_votes += 1 \n",
    "        i = row[2]\n",
    "        # is candidate in dictionary if so\n",
    "        if i in votes:\n",
    "            votes[i][\"Count\"] += 1\n",
    "            votes[i][\"Percent\"] = votes[i][\"Count\"] / total_votes\n",
    "        # is candidate in dictionary if not \n",
    "        else:\n",
    "            votes[i] = {\"Count\":1}\n",
    "            votes[i][\"Percent\"] = votes[i][\"Count\"] / total_votes\n",
    "            candidates.append(i)"
   ]
  },
  {
   "cell_type": "code",
   "execution_count": 4,
   "metadata": {},
   "outputs": [],
   "source": [
    "winner = \"\"\n",
    "max_votes = 0\n",
    "\n",
    "for candidate in candidates:\n",
    "    candidate_votes = votes[candidate][\"Count\"]\n",
    "    \n",
    "    if candidate_votes > max_votes:\n",
    "        max_votes = candidate_votes\n",
    "        winner = candidate"
   ]
  },
  {
   "cell_type": "code",
   "execution_count": 5,
   "metadata": {},
   "outputs": [
    {
     "name": "stdout",
     "output_type": "stream",
     "text": [
      "Election Results\n",
      "----------------\n",
      "Total Votes: 3521001\n",
      "----------------\n",
      "Khan : 63.000% (2218231)\n",
      "Correy : 20.000% (704200)\n",
      "Li : 14.000% (492940)\n",
      "O'Tooley : 3.000% (105630)\n",
      "----------------\n",
      "Winner: Khan\n",
      "----------------\n"
     ]
    }
   ],
   "source": [
    "analysis_path = os.path.join('Analysis', 'Analysis.txt')\n",
    "\n",
    "with open(analysis_path, 'w') as f:\n",
    "    f.write(f\"Election Results\\n\")\n",
    "    f.write(f\"----------------\\n\")\n",
    "    f.write(f\"Total Votes: {total_votes}\\n\")\n",
    "    f.write(f\"----------------\\n\")\n",
    "\n",
    "    for candidate in candidates:\n",
    "        votes_percent = votes[candidate][\"Percent\"] * 100\n",
    "        votes_count = votes[candidate][\"Count\"]\n",
    "        \n",
    "        f.write(\"{candidate} : {votes_percent:.3f}% ({votes_count})')\n",
    "\n",
    "    f.write(f\"----------------\")\n",
    "    f.write(f\"Winner:\", winner)\n",
    "    f.write(f\"----------------\")"
   ]
  }
 ],
 "metadata": {
  "kernelspec": {
   "display_name": "Python 3",
   "language": "python",
   "name": "python3"
  },
  "language_info": {
   "codemirror_mode": {
    "name": "ipython",
    "version": 3
   },
   "file_extension": ".py",
   "mimetype": "text/x-python",
   "name": "python",
   "nbconvert_exporter": "python",
   "pygments_lexer": "ipython3",
   "version": "3.7.6"
  }
 },
 "nbformat": 4,
 "nbformat_minor": 4
}
