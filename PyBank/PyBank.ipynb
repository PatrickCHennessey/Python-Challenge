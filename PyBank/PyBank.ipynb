{
 "cells": [
  {
   "cell_type": "code",
   "execution_count": 1,
   "metadata": {},
   "outputs": [],
   "source": [
    "import os \n",
    "import csv"
   ]
  },
  {
   "cell_type": "code",
   "execution_count": 2,
   "metadata": {},
   "outputs": [
    {
     "data": {
      "text/plain": [
       "'C:\\\\Users\\\\Patrick\\\\GT-HW-Repo\\\\Python_HW\\\\Python-Challenge\\\\PyBank'"
      ]
     },
     "execution_count": 2,
     "metadata": {},
     "output_type": "execute_result"
    }
   ],
   "source": [
    "pwd"
   ]
  },
  {
   "cell_type": "code",
   "execution_count": 3,
   "metadata": {},
   "outputs": [],
   "source": [
    "csvpath = os.path.join('Resources','budget_data.csv')"
   ]
  },
  {
   "cell_type": "code",
   "execution_count": 4,
   "metadata": {},
   "outputs": [],
   "source": [
    "total_months = 0\n",
    "month_change = []\n",
    "net_PL_init = 0\n",
    "average_change_PL = 0\n",
    "previous = 0\n",
    "date_max_profit = \"\" \n",
    "date_min_profit = \"\" \n",
    "pl_date = \"\"\n",
    "mmp = \"\"\n",
    "mml = \"\"\n",
    "dates = []\n",
    "\n",
    "with open(csvpath, newline = '') as csvfile:\n",
    "    csvreader = csv.reader(csvfile, delimiter = ',')\n",
    "    csvheader = next(csvreader)\n",
    "    \n",
    "    for x in csvreader:\n",
    "        total_months += 1\n",
    "        net_PL_init += int(x[1])\n",
    "        average_change_PL = int(x[1]) - previous\n",
    "        month_change.append(average_change_PL)\n",
    "        dates.append(x[0])\n",
    "        previous = int(x[1])\n",
    "       \n",
    "        max_profit = max(month_change)\n",
    "        mmp = month_change.index(max_profit)  \n",
    "            \n",
    "        min_profit = min(month_change)\n",
    "        mml = month_change.index(min_profit)\n",
    "        \n",
    "        \n",
    "    average = sum(month_change[1:])/(len(month_change)-1) \n",
    "    \n",
    "date_max_profit = dates[mmp]  \n",
    "date_min_profit = dates[mml]\n",
    "    \n",
    "# print(f\"Total Months: {total_months}\")\n",
    "# print(f\"Net Profit / Loss: $ {net_PL_init}\")\n",
    "# print(\"Average Change: $\", round (average, 2))\n",
    "# print(\"Greatest Increase in Profit:\", date_max_profit, \"$\", max_profit)\n",
    "# print(\"Greatest Decrease in Profit:\", date_min_profit, \"$\", min_profit)"
   ]
  },
  {
   "cell_type": "code",
   "execution_count": 5,
   "metadata": {},
   "outputs": [],
   "source": [
    "analysis_path = os.path.join('Analysis', 'Analysis.txt')"
   ]
  },
  {
   "cell_type": "code",
   "execution_count": 6,
   "metadata": {},
   "outputs": [],
   "source": [
    "# f = open(analysis_path, 'w')\n",
    "# do stuff\n",
    "# f.close()\n",
    "\n",
    "with open(analysis_path, 'w') as f:\n",
    "    f.write(f\"Total Months: {total_months}\\n\")\n",
    "    f.write(f\"Net Profit / Loss: ${net_PL_init}\\n\")\n",
    "    f.write(f\"Average Change: ${round(average, 2)}\\n\")\n",
    "    f.write(f\"Greatest Increase in Profit: {date_max_profit} ${max_profit}\\n\")\n",
    "    f.write(f\"Greatest Decrease in Profit: {date_min_profit} ${min_profit}\\n\")"
   ]
  },
  {
   "cell_type": "code",
   "execution_count": null,
   "metadata": {},
   "outputs": [],
   "source": []
  }
 ],
 "metadata": {
  "kernelspec": {
   "display_name": "Python 3",
   "language": "python",
   "name": "python3"
  },
  "language_info": {
   "codemirror_mode": {
    "name": "ipython",
    "version": 3
   },
   "file_extension": ".py",
   "mimetype": "text/x-python",
   "name": "python",
   "nbconvert_exporter": "python",
   "pygments_lexer": "ipython3",
   "version": "3.7.6"
  }
 },
 "nbformat": 4,
 "nbformat_minor": 4
}
